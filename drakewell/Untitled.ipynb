{
 "cells": [
  {
   "cell_type": "code",
   "execution_count": 1,
   "metadata": {},
   "outputs": [
    {
     "name": "stdout",
     "output_type": "stream",
     "text": [
      "Using matplotlib backend: MacOSX\n"
     ]
    }
   ],
   "source": [
    "import pandas as pd\n",
    "%matplotlib"
   ]
  },
  {
   "cell_type": "code",
   "execution_count": 3,
   "metadata": {},
   "outputs": [],
   "source": [
    "df = pd.concat(map(pd.read_csv, ['downloaded_data/2019-05.csv', 'downloaded_data/2019-06.csv','downloaded_data/2019-07.csv']))\n",
    "df.columns=['node', 'cosit', 'timestamp', 'period', 'seconds', 'count']\n",
    "df.index = pd.to_datetime(df['timestamp'])\n",
    "#df.drop('timestamp', axis=1, inplace=True)"
   ]
  },
  {
   "cell_type": "code",
   "execution_count": 9,
   "metadata": {},
   "outputs": [
    {
     "data": {
      "text/plain": [
       "node                 object\n",
       "cosit                object\n",
       "timestamp            object\n",
       "period                int64\n",
       "seconds               int64\n",
       "count               float64\n",
       "d            datetime64[ns]\n",
       "dtype: object"
      ]
     },
     "execution_count": 9,
     "metadata": {},
     "output_type": "execute_result"
    }
   ],
   "source": [
    "df.dtypes"
   ]
  },
  {
   "cell_type": "code",
   "execution_count": 8,
   "metadata": {},
   "outputs": [],
   "source": [
    "df['d'] = pd.to_datetime(df['timestamp'])"
   ]
  },
  {
   "cell_type": "code",
   "execution_count": 17,
   "metadata": {},
   "outputs": [],
   "source": [
    "df.index = df.index.normalize()"
   ]
  },
  {
   "cell_type": "code",
   "execution_count": 18,
   "metadata": {},
   "outputs": [
    {
     "data": {
      "text/html": [
       "<div>\n",
       "<style scoped>\n",
       "    .dataframe tbody tr th:only-of-type {\n",
       "        vertical-align: middle;\n",
       "    }\n",
       "\n",
       "    .dataframe tbody tr th {\n",
       "        vertical-align: top;\n",
       "    }\n",
       "\n",
       "    .dataframe thead th {\n",
       "        text-align: right;\n",
       "    }\n",
       "</style>\n",
       "<table border=\"1\" class=\"dataframe\">\n",
       "  <thead>\n",
       "    <tr style=\"text-align: right;\">\n",
       "      <th></th>\n",
       "      <th>node</th>\n",
       "      <th>cosit</th>\n",
       "      <th>timestamp</th>\n",
       "      <th>period</th>\n",
       "      <th>seconds</th>\n",
       "      <th>count</th>\n",
       "      <th>d</th>\n",
       "    </tr>\n",
       "    <tr>\n",
       "      <th>timestamp</th>\n",
       "      <th></th>\n",
       "      <th></th>\n",
       "      <th></th>\n",
       "      <th></th>\n",
       "      <th></th>\n",
       "      <th></th>\n",
       "      <th></th>\n",
       "    </tr>\n",
       "  </thead>\n",
       "  <tbody>\n",
       "    <tr>\n",
       "      <th>2019-05-01</th>\n",
       "      <td>CAMBRIDGE_JTMS</td>\n",
       "      <td>9800WBETRSU3</td>\n",
       "      <td>2019-05-01 00:00:00</td>\n",
       "      <td>900</td>\n",
       "      <td>123</td>\n",
       "      <td>3.0</td>\n",
       "      <td>2019-05-01 00:00:00</td>\n",
       "    </tr>\n",
       "    <tr>\n",
       "      <th>2019-05-01</th>\n",
       "      <td>CAMBRIDGE_JTMS</td>\n",
       "      <td>9800WBETRSU3</td>\n",
       "      <td>2019-05-01 00:15:00</td>\n",
       "      <td>900</td>\n",
       "      <td>94</td>\n",
       "      <td>1.0</td>\n",
       "      <td>2019-05-01 00:15:00</td>\n",
       "    </tr>\n",
       "    <tr>\n",
       "      <th>2019-05-01</th>\n",
       "      <td>CAMBRIDGE_JTMS</td>\n",
       "      <td>9800WBETRSU3</td>\n",
       "      <td>2019-05-01 00:30:00</td>\n",
       "      <td>900</td>\n",
       "      <td>457</td>\n",
       "      <td>1.0</td>\n",
       "      <td>2019-05-01 00:30:00</td>\n",
       "    </tr>\n",
       "    <tr>\n",
       "      <th>2019-05-01</th>\n",
       "      <td>CAMBRIDGE_JTMS</td>\n",
       "      <td>9800WBETRSU3</td>\n",
       "      <td>2019-05-01 00:45:00</td>\n",
       "      <td>900</td>\n",
       "      <td>120</td>\n",
       "      <td>2.0</td>\n",
       "      <td>2019-05-01 00:45:00</td>\n",
       "    </tr>\n",
       "    <tr>\n",
       "      <th>2019-05-01</th>\n",
       "      <td>CAMBRIDGE_JTMS</td>\n",
       "      <td>9800WBETRSU3</td>\n",
       "      <td>2019-05-01 01:00:00</td>\n",
       "      <td>900</td>\n",
       "      <td>123</td>\n",
       "      <td>1.0</td>\n",
       "      <td>2019-05-01 01:00:00</td>\n",
       "    </tr>\n",
       "  </tbody>\n",
       "</table>\n",
       "</div>"
      ],
      "text/plain": [
       "                      node         cosit            timestamp  period  \\\n",
       "timestamp                                                               \n",
       "2019-05-01  CAMBRIDGE_JTMS  9800WBETRSU3  2019-05-01 00:00:00     900   \n",
       "2019-05-01  CAMBRIDGE_JTMS  9800WBETRSU3  2019-05-01 00:15:00     900   \n",
       "2019-05-01  CAMBRIDGE_JTMS  9800WBETRSU3  2019-05-01 00:30:00     900   \n",
       "2019-05-01  CAMBRIDGE_JTMS  9800WBETRSU3  2019-05-01 00:45:00     900   \n",
       "2019-05-01  CAMBRIDGE_JTMS  9800WBETRSU3  2019-05-01 01:00:00     900   \n",
       "\n",
       "            seconds  count                   d  \n",
       "timestamp                                       \n",
       "2019-05-01      123    3.0 2019-05-01 00:00:00  \n",
       "2019-05-01       94    1.0 2019-05-01 00:15:00  \n",
       "2019-05-01      457    1.0 2019-05-01 00:30:00  \n",
       "2019-05-01      120    2.0 2019-05-01 00:45:00  \n",
       "2019-05-01      123    1.0 2019-05-01 01:00:00  "
      ]
     },
     "execution_count": 18,
     "metadata": {},
     "output_type": "execute_result"
    }
   ],
   "source": [
    "df.head()"
   ]
  },
  {
   "cell_type": "code",
   "execution_count": null,
   "metadata": {},
   "outputs": [],
   "source": []
  }
 ],
 "metadata": {
  "kernelspec": {
   "display_name": "Python 3",
   "language": "python",
   "name": "python3"
  },
  "language_info": {
   "codemirror_mode": {
    "name": "ipython",
    "version": 3
   },
   "file_extension": ".py",
   "mimetype": "text/x-python",
   "name": "python",
   "nbconvert_exporter": "python",
   "pygments_lexer": "ipython3",
   "version": "3.7.3"
  }
 },
 "nbformat": 4,
 "nbformat_minor": 2
}
